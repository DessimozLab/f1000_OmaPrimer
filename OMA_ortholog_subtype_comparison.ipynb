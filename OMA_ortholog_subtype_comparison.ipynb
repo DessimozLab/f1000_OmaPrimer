{
 "cells": [
  {
   "cell_type": "markdown",
   "metadata": {
    "run_control": {
     "frozen": false,
     "read_only": false
    }
   },
   "source": [
    "Author: Natasha Glover;\n",
    "Date: 25 Nov 2019\n",
    "\n",
    "This notebook compares 3 subtypes of orthologs obtained from the OMA browser (Jun 2019 version) for the rat P53 gene. The sub-types of orthologs compared are:\n",
    "- pairwise orthologs\n",
    "- HOG-derived orthologs\n",
    "- OMA Group-derived orthologs\n",
    "\n",
    "The method requires using the OMA REST API, but I also show how to obtain the same results with the browser.\n",
    "\n",
    "For more information on the subtypes of orthologs provided in OMA, and more information describing this particular example, see **OMA: A Primer**. "
   ]
  },
  {
   "cell_type": "markdown",
   "metadata": {},
   "source": [
    "# Setup"
   ]
  },
  {
   "cell_type": "code",
   "execution_count": 1,
   "metadata": {
    "ExecuteTime": {
     "end_time": "2019-11-26T09:04:51.768592Z",
     "start_time": "2019-11-26T09:04:50.195981Z"
    },
    "run_control": {
     "frozen": false,
     "read_only": false
    }
   },
   "outputs": [
    {
     "name": "stderr",
     "output_type": "stream",
     "text": [
      "/Users/nglover/.pyenv/versions/3.6.0/lib/python3.6/importlib/_bootstrap.py:205: RuntimeWarning: numpy.dtype size changed, may indicate binary incompatibility. Expected 96, got 88\n",
      "  return f(*args, **kwds)\n"
     ]
    }
   ],
   "source": [
    "#for rest api\n",
    "import requests\n",
    "import json\n",
    "\n",
    "api_url = \"https://omabrowser.org/api/\"\n",
    "\n",
    "#for venn diagram\n",
    "import matplotlib.pyplot as plt\n",
    "from matplotlib_venn import venn3\n",
    "\n",
    "#for analysis\n",
    "import pandas as pd\n"
   ]
  },
  {
   "cell_type": "code",
   "execution_count": 2,
   "metadata": {
    "ExecuteTime": {
     "end_time": "2019-11-26T09:04:52.788066Z",
     "start_time": "2019-11-26T09:04:52.782206Z"
    },
    "run_control": {
     "frozen": false,
     "read_only": false
    }
   },
   "outputs": [],
   "source": [
    "#set up your working directory for this analysis\n",
    "working_directory =  '/Users/nglover/DataAnalysis/ortholog_comparison/'"
   ]
  },
  {
   "cell_type": "code",
   "execution_count": 3,
   "metadata": {
    "ExecuteTime": {
     "end_time": "2019-11-26T09:04:53.418281Z",
     "start_time": "2019-11-26T09:04:53.414122Z"
    }
   },
   "outputs": [],
   "source": [
    "#the gene of interest, in this case for the rat p53\n",
    "gene_of_interest_omaId = \"RATNO03710\""
   ]
  },
  {
   "cell_type": "markdown",
   "metadata": {
    "ExecuteTime": {
     "end_time": "2019-10-24T15:36:53.180779Z",
     "start_time": "2019-10-24T15:36:53.173056Z"
    },
    "run_control": {
     "frozen": false,
     "read_only": false
    }
   },
   "source": [
    "# Pairwise orthologs"
   ]
  },
  {
   "cell_type": "markdown",
   "metadata": {},
   "source": [
    "In this analysis we want compare the number of orthologs for a given gene, determined by several methods of inference. First we get the pairs of orthologs, determined by the normal OMA inference pipeline. First, I show how to obtain them from the OMA API, then I show how to obtain them from the omabrowser."
   ]
  },
  {
   "cell_type": "code",
   "execution_count": 4,
   "metadata": {
    "ExecuteTime": {
     "end_time": "2019-11-26T09:04:55.872072Z",
     "start_time": "2019-11-26T09:04:55.458121Z"
    }
   },
   "outputs": [
    {
     "name": "stdout",
     "output_type": "stream",
     "text": [
      "There are 40 pairwise orthologs for RATNO03710. \n",
      "\n",
      "These are the orthologs:\n",
      "['BRAFL04526', 'LEPOC07666', 'ANATE33593', 'SERDU24530', 'SCOMX20624', 'GASAC12863', 'GASAC18178', 'TAKRU14704', 'TETNG08947', 'ORYLA07425', 'ORYME20960', 'NOTFU06675', 'CYPVA10916', 'POEFO05791', 'XIPMA11214', 'ORENI19118', 'AMPOC08229', 'HIPCM00634', 'ASTMX10477', 'ASTMX20223', 'PYGNA20446', 'ICTPU23515', 'DANRE33875', 'LATCH10910', 'MOUSE04050', 'TUPBE00446', 'SARHA15516', 'PHACI25211', 'CHRPI27412', 'PELSI05784', 'SPHPU23875', 'XENTR12242', 'CIOIN05889', 'CIOSA13478', 'IXOSC09422', 'DAPPU06159', 'LEPSM05743', 'NASVI15815', 'PEDHC00225', 'OCTBM07059']\n"
     ]
    }
   ],
   "source": [
    "#obtain pairwise orthologs from the API\n",
    "\n",
    "pairwise_orthologs = requests.get(api_url+\"/protein/\"+ gene_of_interest_omaId +\"/orthologs/\").json()\n",
    "pairwise_orthologs = [x['omaid'] for x in pairwise_orthologs]\n",
    "\n",
    "print(\"There are {} pairwise orthologs for {}.\".format(len(pairwise_orthologs), gene_of_interest_omaId), \"\\n\")\n",
    "print(\"These are the orthologs:\\n{}\".format(pairwise_orthologs))"
   ]
  },
  {
   "cell_type": "code",
   "execution_count": 5,
   "metadata": {
    "ExecuteTime": {
     "end_time": "2019-11-26T09:04:56.176775Z",
     "start_time": "2019-11-26T09:04:56.135433Z"
    },
    "run_control": {
     "frozen": false,
     "read_only": false
    }
   },
   "outputs": [
    {
     "name": "stdout",
     "output_type": "stream",
     "text": [
      "There are 40 pairwise orthologs for RATNO03710. \n",
      "\n",
      "These are the orthologs:\n",
      "['BRAFL04526', 'LEPOC07666', 'ORYLA07425', 'PYGNA20446', 'LATCH10910', 'MOUSE04050', 'TUPBE00446', 'PHACI25211', 'CHRPI27412', 'PELSI05784', 'CIOIN05889', 'CIOSA13478', 'DAPPU06159', 'LEPSM05743', 'NASVI15815', 'PEDHC00225', 'OCTBM07059', 'ASTMX10477', 'ASTMX20223', 'ANATE33593', 'SERDU24530', 'SCOMX20624', 'TAKRU14704', 'TETNG08947', 'ORYME20960', 'NOTFU06675', 'CYPVA10916', 'POEFO05791', 'XIPMA11214', 'ORENI19118', 'AMPOC08229', 'HIPCM00634', 'ICTPU23515', 'DANRE33875', 'SARHA15516', 'SPHPU23875', 'XENTR12242', 'IXOSC09422', 'GASAC12863', 'GASAC18178']\n"
     ]
    }
   ],
   "source": [
    "#alternatively, one can download the file from website https://omabrowser.org/oma/vps/RATNO03710/\n",
    "pairwise_orthologs_file = pd.read_csv(working_directory +'tableExport.txt', sep=\",\")\n",
    "pairwise_orthologs = pairwise_orthologs_file[pairwise_orthologs_file['Relation']!=\"close paralog\"]['Protein ID'] #filter out paralogs\n",
    "pairwise_orthologs = pairwise_orthologs.tolist()\n",
    "\n",
    "print(\"There are {} pairwise orthologs for {}.\".format(len(pairwise_orthologs), gene_of_interest_omaId), \"\\n\")\n",
    "print(\"These are the orthologs:\\n{}\".format(pairwise_orthologs))"
   ]
  },
  {
   "cell_type": "markdown",
   "metadata": {
    "run_control": {
     "frozen": false,
     "read_only": false
    }
   },
   "source": [
    "# HOG-derived orthologs"
   ]
  },
  {
   "cell_type": "markdown",
   "metadata": {
    "run_control": {
     "frozen": false,
     "read_only": false
    }
   },
   "source": [
    "Now, get the orthologs obtained from the HOG which contains p53. It is important to remember that HOGs contain both orthologs and paralogs, so we need to filter out the paralogs. We will do this with the OMA REST API, which has a function called hog_derived_orthologs that induces pairs of orthologs from a hog containing a gene of interest."
   ]
  },
  {
   "cell_type": "code",
   "execution_count": 6,
   "metadata": {
    "ExecuteTime": {
     "end_time": "2019-11-26T09:04:58.698564Z",
     "start_time": "2019-11-26T09:04:58.191075Z"
    },
    "run_control": {
     "frozen": false,
     "read_only": false
    }
   },
   "outputs": [
    {
     "name": "stdout",
     "output_type": "stream",
     "text": [
      "There are 74 hog-derived orthologs for RATNO03710. \n",
      "\n",
      "These are the orthologs:\n",
      "['BRAFL04526', 'LEPOC07666', 'ANATE33593', 'SERDU24530', 'SCOMX20624', 'GASAC18178', 'TAKRU14704', 'TETNG08947', 'ORYLA07425', 'ORYME20960', 'NOTFU06675', 'CYPVA10916', 'POEFO05791', 'XIPMA11214', 'ORENI19118', 'AMPOC08229', 'HIPCM00634', 'ASTMX10477', 'ASTMX20223', 'PYGNA20446', 'PYGNA35958', 'ICTPU23515', 'ICTPU32586', 'DANRE33875', 'LATCH10910', 'MOUSE04050', 'CERAT16919', 'CHLSB05212', 'MACFA12932', 'MACMU09315', 'MACNE32052', 'MANLE14753', 'PAPAN07289', 'COLAP23501', 'RHIBE10478', 'RHIRO28452', 'GORGO08436', 'HUMAN11953', 'PANPA16288', 'PANTR13505', 'PONAB05442', 'NOMLE13163', 'AOTNA15067', 'AOTNA17725', 'AOTNA32936', 'CALJA16436', 'SAIBB15416', 'MICMU08633', 'PROCO25562', 'OTOGA10899', 'TUPBE00446', 'CANLF15465', 'VULVU18753', 'MUSPF10133', 'AILME07424', 'URSAM24678', 'URSMA20986', 'FELCA14704', 'TURTR13573', 'BOVIN07692', 'SHEEP02763', 'PIGXX03337', 'PTEVA15489', 'MYOLU14260', 'MYOLU18349', 'ERIEU13442', 'SORAR12993', 'HORSE03648', 'DASNO18728', 'CHICK06919', 'CHRPI27412', 'PELSI05784', 'SPHPU23875', 'XENTR12242']\n"
     ]
    }
   ],
   "source": [
    "#Get the pairs of orthologs from the HOG, using thte OMA API\n",
    "\n",
    "hog_derived_orthologs = requests.get(api_url+\"/protein/\"+ gene_of_interest_omaId +\"/hog_derived_orthologs/\").json()\n",
    "hog_derived_orthologs = [x['omaid'] for x in hog_derived_orthologs]\n",
    "\n",
    "print(\"There are {} hog-derived orthologs for {}.\".format(len(hog_derived_orthologs), gene_of_interest_omaId), \"\\n\")\n",
    "print(\"These are the orthologs:\\n{}\".format(hog_derived_orthologs))\n"
   ]
  },
  {
   "cell_type": "markdown",
   "metadata": {
    "run_control": {
     "frozen": false,
     "read_only": false
    }
   },
   "source": [
    "# OMA Group-derived orthologs"
   ]
  },
  {
   "cell_type": "markdown",
   "metadata": {},
   "source": [
    "Now to obtain orthologs of rat p53 derived from its OMA Group."
   ]
  },
  {
   "cell_type": "code",
   "execution_count": 7,
   "metadata": {
    "ExecuteTime": {
     "end_time": "2019-11-26T09:05:00.496271Z",
     "start_time": "2019-11-26T09:05:00.349177Z"
    }
   },
   "outputs": [
    {
     "name": "stdout",
     "output_type": "stream",
     "text": [
      "There are 13 oma group-derived orthologs for RATNO03710. \n",
      "\n",
      "These are the orthologs:\n",
      "['NOTFU06675', 'CYPVA10916', 'POEFO05791', 'XIPMA11214', 'HIPCM00634', 'ASTMX10477', 'PYGNA20446', 'ICTPU32586', 'LOXAF00244', 'PHACI25211', 'CIOIN05889', 'CIOSA13478', 'DANPL15091']\n"
     ]
    }
   ],
   "source": [
    "#obtain pairwise orthologs from the API\n",
    "\n",
    "omagroup_orthologs = requests.get(api_url+\"/group/\"+ gene_of_interest_omaId + \"/\" ).json()['members']\n",
    "omagroup_orthologs = [x['omaid'] for x in omagroup_orthologs]\n",
    "\n",
    "#remove query gene\n",
    "omagroup_orthologs = [x for x in omagroup_orthologs if x!=gene_of_interest_omaId]\n",
    "\n",
    "print(\"There are {} oma group-derived orthologs for {}.\".format(len(omagroup_orthologs), gene_of_interest_omaId), \"\\n\")\n",
    "print(\"These are the orthologs:\\n{}\".format(omagroup_orthologs))"
   ]
  },
  {
   "cell_type": "code",
   "execution_count": 8,
   "metadata": {
    "ExecuteTime": {
     "end_time": "2019-11-26T09:05:01.160276Z",
     "start_time": "2019-11-26T09:05:01.148062Z"
    },
    "run_control": {
     "frozen": false,
     "read_only": false
    }
   },
   "outputs": [
    {
     "name": "stdout",
     "output_type": "stream",
     "text": [
      "There are 13 oma group-derived orthologs for RATNO03710. \n",
      "\n",
      "These are the orthologs:\n",
      "['NOTFU06675', 'CYPVA10916', 'POEFO05791', 'XIPMA11214', 'HIPCM00634', 'ASTMX10477', 'PYGNA20446', 'ICTPU32586', 'LOXAF00244', 'PHACI25211', 'CIOIN05889', 'CIOSA13478', 'DANPL15091']\n"
     ]
    }
   ],
   "source": [
    "#get the oma-group orthologs from the browser, downloaded file from https://omabrowser.org/oma/group/RATNO03710/\n",
    "oma_groups_file = pd.read_csv(working_directory +'tableExport_omagroup.txt', sep=\",\")\n",
    "omagroup_orthologs = oma_groups_file['Protein ID'].tolist()\n",
    "\n",
    "#remove query gene\n",
    "omagroup_orthologs = [x for x in omagroup_orthologs if x!=gene_of_interest_omaId]\n",
    "\n",
    "print(\"There are {} oma group-derived orthologs for {}.\".format(len(omagroup_orthologs), gene_of_interest_omaId), \"\\n\")\n",
    "print(\"These are the orthologs:\\n{}\".format(omagroup_orthologs))"
   ]
  },
  {
   "cell_type": "markdown",
   "metadata": {
    "ExecuteTime": {
     "end_time": "2019-10-24T16:21:39.447239Z",
     "start_time": "2019-10-24T16:21:39.440142Z"
    },
    "run_control": {
     "frozen": false,
     "read_only": false
    }
   },
   "source": [
    "# Comparison"
   ]
  },
  {
   "cell_type": "code",
   "execution_count": 9,
   "metadata": {
    "ExecuteTime": {
     "end_time": "2019-11-26T09:05:02.602331Z",
     "start_time": "2019-11-26T09:05:02.342989Z"
    },
    "run_control": {
     "frozen": false,
     "read_only": false
    },
    "scrolled": false
   },
   "outputs": [
    {
     "data": {
      "text/plain": [
       "Text(0.5,1,'Rat P53 Orthologs Comparison')"
      ]
     },
     "execution_count": 9,
     "metadata": {},
     "output_type": "execute_result"
    },
    {
     "data": {
      "image/png": "[encoded data removed]",
      "text/plain": [
       "<Figure size 432x288 with 1 Axes>"
      ]
     },
     "metadata": {},
     "output_type": "display_data"
    }
   ],
   "source": [
    "fig, ax = plt.subplots()\n",
    "out = venn3([set(hog_derived_orthologs), set(omagroup_orthologs), set(pairwise_orthologs)],\\\n",
    "      set_labels = (\"HOG-derived\", \"OMA Group-derived\", \"pairwise\"))\n",
    "plt.title(\"Rat P53 Orthologs Comparison\", fontsize=20)"
   ]
  }
 ],
 "metadata": {
  "kernelspec": {
   "display_name": "Python 3",
   "language": "python",
   "name": "python3"
  },
  "language_info": {
   "codemirror_mode": {
    "name": "ipython",
    "version": 3
   },
   "file_extension": ".py",
   "mimetype": "text/x-python",
   "name": "python",
   "nbconvert_exporter": "python",
   "pygments_lexer": "ipython3",
   "version": "3.6.0"
  },
  "toc": {
   "colors": {
    "hover_highlight": "#DAA520",
    "running_highlight": "#FF0000",
    "selected_highlight": "#FFD700"
   },
   "moveMenuLeft": true,
   "nav_menu": {
    "height": "84px",
    "width": "252px"
   },
   "navigate_menu": true,
   "number_sections": true,
   "sideBar": true,
   "threshold": 4,
   "toc_cell": false,
   "toc_section_display": "block",
   "toc_window_display": false
  }
 },
 "nbformat": 4,
 "nbformat_minor": 2
}
